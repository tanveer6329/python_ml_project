{
 "cells": [
  {
   "cell_type": "code",
   "execution_count": 1,
   "source": [
    "import numpy as np\r\n",
    "import pandas as pd\r\n",
    "import matplotlib.pyplot as plt\r\n",
    "import seaborn as sns\r\n",
    "%matplotlib inline"
   ],
   "outputs": [],
   "metadata": {}
  },
  {
   "cell_type": "code",
   "execution_count": 2,
   "source": [
    "df = pd.read_csv('coalv2.csv')\r\n",
    "df.head()"
   ],
   "outputs": [
    {
     "output_type": "execute_result",
     "data": {
      "text/html": [
       "<div>\n",
       "<style scoped>\n",
       "    .dataframe tbody tr th:only-of-type {\n",
       "        vertical-align: middle;\n",
       "    }\n",
       "\n",
       "    .dataframe tbody tr th {\n",
       "        vertical-align: top;\n",
       "    }\n",
       "\n",
       "    .dataframe thead th {\n",
       "        text-align: right;\n",
       "    }\n",
       "</style>\n",
       "<table border=\"1\" class=\"dataframe\">\n",
       "  <thead>\n",
       "    <tr style=\"text-align: right;\">\n",
       "      <th></th>\n",
       "      <th>moistr</th>\n",
       "      <th>volmat</th>\n",
       "      <th>fixedc</th>\n",
       "      <th>ash</th>\n",
       "      <th>hydrgn</th>\n",
       "      <th>carbon</th>\n",
       "      <th>nitrgn</th>\n",
       "      <th>oxygen</th>\n",
       "      <th>sulfur</th>\n",
       "      <th>gcv</th>\n",
       "    </tr>\n",
       "  </thead>\n",
       "  <tbody>\n",
       "    <tr>\n",
       "      <th>0</th>\n",
       "      <td>6.98</td>\n",
       "      <td>33.02</td>\n",
       "      <td>57.42</td>\n",
       "      <td>2.58</td>\n",
       "      <td>5.14</td>\n",
       "      <td>71.80</td>\n",
       "      <td>1.13</td>\n",
       "      <td>18.91</td>\n",
       "      <td>0.44</td>\n",
       "      <td>12312</td>\n",
       "    </tr>\n",
       "    <tr>\n",
       "      <th>1</th>\n",
       "      <td>11.15</td>\n",
       "      <td>26.39</td>\n",
       "      <td>58.32</td>\n",
       "      <td>4.14</td>\n",
       "      <td>5.05</td>\n",
       "      <td>66.71</td>\n",
       "      <td>1.40</td>\n",
       "      <td>22.10</td>\n",
       "      <td>0.60</td>\n",
       "      <td>11290</td>\n",
       "    </tr>\n",
       "    <tr>\n",
       "      <th>2</th>\n",
       "      <td>2.38</td>\n",
       "      <td>29.88</td>\n",
       "      <td>54.64</td>\n",
       "      <td>13.10</td>\n",
       "      <td>4.66</td>\n",
       "      <td>69.69</td>\n",
       "      <td>1.25</td>\n",
       "      <td>6.07</td>\n",
       "      <td>5.23</td>\n",
       "      <td>12674</td>\n",
       "    </tr>\n",
       "    <tr>\n",
       "      <th>3</th>\n",
       "      <td>3.38</td>\n",
       "      <td>28.61</td>\n",
       "      <td>40.39</td>\n",
       "      <td>27.62</td>\n",
       "      <td>4.30</td>\n",
       "      <td>55.02</td>\n",
       "      <td>1.15</td>\n",
       "      <td>6.78</td>\n",
       "      <td>5.13</td>\n",
       "      <td>10130</td>\n",
       "    </tr>\n",
       "    <tr>\n",
       "      <th>4</th>\n",
       "      <td>10.67</td>\n",
       "      <td>27.92</td>\n",
       "      <td>54.50</td>\n",
       "      <td>6.91</td>\n",
       "      <td>5.43</td>\n",
       "      <td>70.17</td>\n",
       "      <td>1.54</td>\n",
       "      <td>14.80</td>\n",
       "      <td>1.15</td>\n",
       "      <td>12559</td>\n",
       "    </tr>\n",
       "  </tbody>\n",
       "</table>\n",
       "</div>"
      ],
      "text/plain": [
       "   moistr  volmat  fixedc    ash  hydrgn  carbon  nitrgn  oxygen  sulfur  \\\n",
       "0    6.98   33.02   57.42   2.58    5.14   71.80    1.13   18.91    0.44   \n",
       "1   11.15   26.39   58.32   4.14    5.05   66.71    1.40   22.10    0.60   \n",
       "2    2.38   29.88   54.64  13.10    4.66   69.69    1.25    6.07    5.23   \n",
       "3    3.38   28.61   40.39  27.62    4.30   55.02    1.15    6.78    5.13   \n",
       "4   10.67   27.92   54.50   6.91    5.43   70.17    1.54   14.80    1.15   \n",
       "\n",
       "     gcv  \n",
       "0  12312  \n",
       "1  11290  \n",
       "2  12674  \n",
       "3  10130  \n",
       "4  12559  "
      ]
     },
     "metadata": {},
     "execution_count": 2
    }
   ],
   "metadata": {}
  },
  {
   "cell_type": "code",
   "execution_count": 3,
   "source": [
    "df.describe()"
   ],
   "outputs": [
    {
     "output_type": "execute_result",
     "data": {
      "text/html": [
       "<div>\n",
       "<style scoped>\n",
       "    .dataframe tbody tr th:only-of-type {\n",
       "        vertical-align: middle;\n",
       "    }\n",
       "\n",
       "    .dataframe tbody tr th {\n",
       "        vertical-align: top;\n",
       "    }\n",
       "\n",
       "    .dataframe thead th {\n",
       "        text-align: right;\n",
       "    }\n",
       "</style>\n",
       "<table border=\"1\" class=\"dataframe\">\n",
       "  <thead>\n",
       "    <tr style=\"text-align: right;\">\n",
       "      <th></th>\n",
       "      <th>moistr</th>\n",
       "      <th>volmat</th>\n",
       "      <th>fixedc</th>\n",
       "      <th>ash</th>\n",
       "      <th>hydrgn</th>\n",
       "      <th>carbon</th>\n",
       "      <th>nitrgn</th>\n",
       "      <th>oxygen</th>\n",
       "      <th>sulfur</th>\n",
       "      <th>gcv</th>\n",
       "    </tr>\n",
       "  </thead>\n",
       "  <tbody>\n",
       "    <tr>\n",
       "      <th>count</th>\n",
       "      <td>6582.000000</td>\n",
       "      <td>6582.000000</td>\n",
       "      <td>6582.000000</td>\n",
       "      <td>6582.000000</td>\n",
       "      <td>6582.000000</td>\n",
       "      <td>6582.000000</td>\n",
       "      <td>6582.000000</td>\n",
       "      <td>6582.000000</td>\n",
       "      <td>6582.000000</td>\n",
       "      <td>6582.000000</td>\n",
       "    </tr>\n",
       "    <tr>\n",
       "      <th>mean</th>\n",
       "      <td>8.764163</td>\n",
       "      <td>32.193698</td>\n",
       "      <td>48.023200</td>\n",
       "      <td>11.019444</td>\n",
       "      <td>5.301752</td>\n",
       "      <td>65.054637</td>\n",
       "      <td>1.280333</td>\n",
       "      <td>15.446726</td>\n",
       "      <td>1.895128</td>\n",
       "      <td>11544.410817</td>\n",
       "    </tr>\n",
       "    <tr>\n",
       "      <th>std</th>\n",
       "      <td>10.615356</td>\n",
       "      <td>6.256164</td>\n",
       "      <td>11.227088</td>\n",
       "      <td>6.008298</td>\n",
       "      <td>0.713242</td>\n",
       "      <td>12.512354</td>\n",
       "      <td>0.343713</td>\n",
       "      <td>11.951921</td>\n",
       "      <td>1.730536</td>\n",
       "      <td>2347.189691</td>\n",
       "    </tr>\n",
       "    <tr>\n",
       "      <th>min</th>\n",
       "      <td>0.400000</td>\n",
       "      <td>3.000000</td>\n",
       "      <td>4.100000</td>\n",
       "      <td>0.900000</td>\n",
       "      <td>0.400000</td>\n",
       "      <td>4.650000</td>\n",
       "      <td>0.200000</td>\n",
       "      <td>0.200000</td>\n",
       "      <td>0.070000</td>\n",
       "      <td>2810.000000</td>\n",
       "    </tr>\n",
       "    <tr>\n",
       "      <th>25%</th>\n",
       "      <td>2.200000</td>\n",
       "      <td>28.870000</td>\n",
       "      <td>41.800000</td>\n",
       "      <td>6.500000</td>\n",
       "      <td>4.900000</td>\n",
       "      <td>58.312500</td>\n",
       "      <td>1.100000</td>\n",
       "      <td>7.422500</td>\n",
       "      <td>0.670000</td>\n",
       "      <td>10317.250000</td>\n",
       "    </tr>\n",
       "    <tr>\n",
       "      <th>50%</th>\n",
       "      <td>3.600000</td>\n",
       "      <td>33.100000</td>\n",
       "      <td>48.400000</td>\n",
       "      <td>9.800000</td>\n",
       "      <td>5.280000</td>\n",
       "      <td>68.020000</td>\n",
       "      <td>1.300000</td>\n",
       "      <td>10.300000</td>\n",
       "      <td>1.200000</td>\n",
       "      <td>12204.500000</td>\n",
       "    </tr>\n",
       "    <tr>\n",
       "      <th>75%</th>\n",
       "      <td>10.585000</td>\n",
       "      <td>36.500000</td>\n",
       "      <td>54.947500</td>\n",
       "      <td>14.327500</td>\n",
       "      <td>5.600000</td>\n",
       "      <td>74.300000</td>\n",
       "      <td>1.500000</td>\n",
       "      <td>19.500000</td>\n",
       "      <td>2.730000</td>\n",
       "      <td>13279.000000</td>\n",
       "    </tr>\n",
       "    <tr>\n",
       "      <th>max</th>\n",
       "      <td>57.200000</td>\n",
       "      <td>55.700000</td>\n",
       "      <td>87.000000</td>\n",
       "      <td>32.900000</td>\n",
       "      <td>9.500000</td>\n",
       "      <td>89.600000</td>\n",
       "      <td>5.600000</td>\n",
       "      <td>59.900000</td>\n",
       "      <td>17.300000</td>\n",
       "      <td>15247.000000</td>\n",
       "    </tr>\n",
       "  </tbody>\n",
       "</table>\n",
       "</div>"
      ],
      "text/plain": [
       "            moistr       volmat       fixedc          ash       hydrgn  \\\n",
       "count  6582.000000  6582.000000  6582.000000  6582.000000  6582.000000   \n",
       "mean      8.764163    32.193698    48.023200    11.019444     5.301752   \n",
       "std      10.615356     6.256164    11.227088     6.008298     0.713242   \n",
       "min       0.400000     3.000000     4.100000     0.900000     0.400000   \n",
       "25%       2.200000    28.870000    41.800000     6.500000     4.900000   \n",
       "50%       3.600000    33.100000    48.400000     9.800000     5.280000   \n",
       "75%      10.585000    36.500000    54.947500    14.327500     5.600000   \n",
       "max      57.200000    55.700000    87.000000    32.900000     9.500000   \n",
       "\n",
       "            carbon       nitrgn       oxygen       sulfur           gcv  \n",
       "count  6582.000000  6582.000000  6582.000000  6582.000000   6582.000000  \n",
       "mean     65.054637     1.280333    15.446726     1.895128  11544.410817  \n",
       "std      12.512354     0.343713    11.951921     1.730536   2347.189691  \n",
       "min       4.650000     0.200000     0.200000     0.070000   2810.000000  \n",
       "25%      58.312500     1.100000     7.422500     0.670000  10317.250000  \n",
       "50%      68.020000     1.300000    10.300000     1.200000  12204.500000  \n",
       "75%      74.300000     1.500000    19.500000     2.730000  13279.000000  \n",
       "max      89.600000     5.600000    59.900000    17.300000  15247.000000  "
      ]
     },
     "metadata": {},
     "execution_count": 3
    }
   ],
   "metadata": {}
  },
  {
   "cell_type": "code",
   "execution_count": 4,
   "source": [
    "# selecting features and label\r\n",
    "X = df.iloc[:, :-1]  # features\r\n",
    "y = df.iloc[:,-1]  #label"
   ],
   "outputs": [],
   "metadata": {}
  },
  {
   "cell_type": "code",
   "execution_count": 5,
   "source": [
    "[X.shape, y.shape]"
   ],
   "outputs": [
    {
     "output_type": "execute_result",
     "data": {
      "text/plain": [
       "[(6582, 9), (6582,)]"
      ]
     },
     "metadata": {},
     "execution_count": 5
    }
   ],
   "metadata": {}
  },
  {
   "cell_type": "markdown",
   "source": [
    "## AdaBoost"
   ],
   "metadata": {}
  },
  {
   "cell_type": "code",
   "execution_count": 6,
   "source": [
    "# from sklearn.model_selection import cross_val_score\r\n",
    "# from sklearn.ensemble import AdaBoostRegressorAdaBoostRegressor(base_estimator=None, n_estimators=50, learning_rate=1.0, loss='linear',\r\n",
    "# ada_boost =  random_state=None)\r\n",
    "# ada_boost_score = cross_val_score(ada_boost, X, y, cv=10)\r\n",
    "# ada_boost_score.mean()"
   ],
   "outputs": [],
   "metadata": {}
  },
  {
   "cell_type": "markdown",
   "source": [
    "## Bagging"
   ],
   "metadata": {}
  },
  {
   "cell_type": "code",
   "execution_count": 7,
   "source": [
    "# from sklearn.ensemble import BaggingRegressor\r\n",
    "# bagging = BaggingRegressor(base_estimator=None, n_estimators=10, max_samples=1.0, max_features=1.0, bootstrap=True, \r\n",
    "#                  bootstrap_features=False, oob_score=False, warm_start=False, n_jobs=None, random_state=None, verbose=0)\r\n",
    "# bagging_score = cross_val_score(bagging, X, y, cv=10)\r\n",
    "# bagging_score.mean()"
   ],
   "outputs": [],
   "metadata": {}
  },
  {
   "cell_type": "markdown",
   "source": [
    "## Extra Trees"
   ],
   "metadata": {}
  },
  {
   "cell_type": "code",
   "execution_count": 8,
   "source": [
    "# from sklearn.ensemble import ExtraTreesRegressor\r\n",
    "# extra_trees = ExtraTreesRegressor(n_estimators=100, criterion='mse', max_depth=None, min_samples_split=2, \r\n",
    "#             min_samples_leaf=1, min_weight_fraction_leaf=0.0, max_features='auto', max_leaf_nodes=None, \r\n",
    "#             min_impurity_decrease=0.0, min_impurity_split=None, bootstrap=False, oob_score=False, n_jobs=None,\r\n",
    "#             random_state=None, verbose=0, warm_start=False, ccp_alpha=0.0, max_samples=None)\r\n",
    "# extra_trees_score = cross_val_score(extra_trees, X, y, cv=10)\r\n",
    "# extra_trees_score.mean()"
   ],
   "outputs": [],
   "metadata": {}
  },
  {
   "cell_type": "markdown",
   "source": [
    "## Gradient Boosting "
   ],
   "metadata": {}
  },
  {
   "cell_type": "code",
   "execution_count": 9,
   "source": [
    "# from sklearn.ensemble import GradientBoostingRegressor\r\n",
    "# gradient_boosting = GradientBoostingRegressor(loss='ls', learning_rate=0.1, n_estimators=100, subsample=1.0,\r\n",
    "#             criterion='friedman_mse', min_samples_split=2, min_samples_leaf=1, min_weight_fraction_leaf=0.0,\r\n",
    "#             max_depth=3, min_impurity_decrease=0.0, min_impurity_split=None, init=None, random_state=None,\r\n",
    "#             max_features=None, alpha=0.9, verbose=0, max_leaf_nodes=None, warm_start=False, validation_fraction=0.1,\r\n",
    "#             n_iter_no_change=None, tol=0.0001, ccp_alpha=0.0)\r\n",
    "# gradient_boosting_score = cross_val_score(gradient_boosting, X, y, cv=10)\r\n",
    "# gradient_boosting_score.mean()"
   ],
   "outputs": [],
   "metadata": {}
  },
  {
   "cell_type": "markdown",
   "source": [
    "## Random Forest"
   ],
   "metadata": {}
  },
  {
   "cell_type": "code",
   "execution_count": 10,
   "source": [
    "# from sklearn.ensemble import RandomForestRegressor\r\n",
    "# random_forest = RandomForestRegressor(n_estimators=100, criterion='mse', max_depth=None,\r\n",
    "#         min_samples_split=2, min_samples_leaf=1, min_weight_fraction_leaf=0.0, max_features='auto',\r\n",
    "#         max_leaf_nodes=None, min_impurity_decrease=0.0, min_impurity_split=None, bootstrap=True,\r\n",
    "#         oob_score=False, n_jobs=None, random_state=None, verbose=0, warm_start=False, ccp_alpha=0.0, max_samples=None)\r\n",
    "# random_forest_score = cross_val_score(random_forest, X, y, cv=10)\r\n",
    "# random_forest_score.mean()"
   ],
   "outputs": [],
   "metadata": {}
  },
  {
   "cell_type": "code",
   "execution_count": 21,
   "source": [
    "# function to convert seconds to into hours, minutes and seconds\r\n",
    "# this function is used to measure the time taking by the models\r\n",
    "def convert(seconds):\r\n",
    "    seconds = seconds % (24 * 3600)\r\n",
    "    hour = seconds // 3600\r\n",
    "    seconds %= 3600\r\n",
    "    minutes = seconds // 60\r\n",
    "    seconds %= 60\r\n",
    "      \r\n",
    "    return \"%d:%02d:%02d\" % (hour, minutes, seconds)"
   ],
   "outputs": [],
   "metadata": {}
  },
  {
   "cell_type": "markdown",
   "source": [
    "# Selecting the best model using cross-validation from all the ensemble methods\n",
    "___\n",
    "## Part-1: \n",
    "- Creating a dictionary (\"ensemble_models\") where all the ensemble methods are stored within a another dictionary\n",
    "\n",
    "## Part-2:\n",
    "- All the models are looped through a for loop\n",
    "- Using cross_val_score run a particular model 10 times and record all r2_score value, then store all the r2_score\n",
    "- Take average of all the 10 r2_score values\n",
    "\n",
    "## Part-3:\n",
    "- For all models, the average r2_score value is stored in a list"
   ],
   "metadata": {}
  },
  {
   "cell_type": "code",
   "execution_count": 11,
   "source": [
    "from sklearn.ensemble import AdaBoostRegressor\r\n",
    "from sklearn.ensemble import BaggingRegressor\r\n",
    "from sklearn.ensemble import ExtraTreesRegressor\r\n",
    "from sklearn.ensemble import GradientBoostingRegressor\r\n",
    "from sklearn.ensemble import RandomForestRegressor\r\n",
    "\r\n",
    "from sklearn.model_selection import cross_val_score\r\n",
    "\r\n",
    "# Part-1:\r\n",
    "ensemble_models = {\r\n",
    "    'ada_boost':{\r\n",
    "        'model': AdaBoostRegressor()\r\n",
    "    },\r\n",
    "    'random_forest': {\r\n",
    "        'model': RandomForestRegressor()\r\n",
    "    },\r\n",
    "    'bagging': {\r\n",
    "        'model': BaggingRegressor()\r\n",
    "    },\r\n",
    "    'extra_trees': {\r\n",
    "        'model': ExtraTreesRegressor()\r\n",
    "    },\r\n",
    "    'gradient_boosting': {\r\n",
    "        'model': GradientBoostingRegressor()\r\n",
    "    }\r\n",
    "}\r\n"
   ],
   "outputs": [],
   "metadata": {}
  },
  {
   "cell_type": "code",
   "execution_count": 20,
   "source": [
    "import time\r\n",
    "start = time.time()\r\n",
    "# enter your code below this line\r\n",
    "\r\n",
    "scores = []\r\n",
    "# Part-2, Part-3:\r\n",
    "for model_name, mp in ensemble_models.items():\r\n",
    "    regressor_score = cross_val_score(mp['model'], X, y, cv=10).mean()\r\n",
    "    \r\n",
    "    scores.append({\r\n",
    "        'model': model_name,\r\n",
    "        'averaged_score': regressor_score,\r\n",
    "    })\r\n",
    "    \r\n",
    "# enter you code above this line    \r\n",
    "end = time.time()\r\n",
    "print('run_time:', convert(end-start), 'h:m:s                                                                                                                                           ')\r\n",
    "    \r\n",
    "df = pd.DataFrame(scores,columns=['model','averaged_score'])\r\n",
    "df\r\n"
   ],
   "outputs": [
    {
     "output_type": "stream",
     "name": "stdout",
     "text": [
      "run_time: 0:01:30 h:m:s\n"
     ]
    },
    {
     "output_type": "execute_result",
     "data": {
      "text/html": [
       "<div>\n",
       "<style scoped>\n",
       "    .dataframe tbody tr th:only-of-type {\n",
       "        vertical-align: middle;\n",
       "    }\n",
       "\n",
       "    .dataframe tbody tr th {\n",
       "        vertical-align: top;\n",
       "    }\n",
       "\n",
       "    .dataframe thead th {\n",
       "        text-align: right;\n",
       "    }\n",
       "</style>\n",
       "<table border=\"1\" class=\"dataframe\">\n",
       "  <thead>\n",
       "    <tr style=\"text-align: right;\">\n",
       "      <th></th>\n",
       "      <th>model</th>\n",
       "      <th>averaged_score</th>\n",
       "    </tr>\n",
       "  </thead>\n",
       "  <tbody>\n",
       "    <tr>\n",
       "      <th>0</th>\n",
       "      <td>ada_boost</td>\n",
       "      <td>0.953361</td>\n",
       "    </tr>\n",
       "    <tr>\n",
       "      <th>1</th>\n",
       "      <td>random_forest</td>\n",
       "      <td>0.991135</td>\n",
       "    </tr>\n",
       "    <tr>\n",
       "      <th>2</th>\n",
       "      <td>bagging</td>\n",
       "      <td>0.990579</td>\n",
       "    </tr>\n",
       "    <tr>\n",
       "      <th>3</th>\n",
       "      <td>extra_trees</td>\n",
       "      <td>0.992880</td>\n",
       "    </tr>\n",
       "    <tr>\n",
       "      <th>4</th>\n",
       "      <td>gradient_boosting</td>\n",
       "      <td>0.992843</td>\n",
       "    </tr>\n",
       "  </tbody>\n",
       "</table>\n",
       "</div>"
      ],
      "text/plain": [
       "               model  averaged_score\n",
       "0          ada_boost        0.953361\n",
       "1      random_forest        0.991135\n",
       "2            bagging        0.990579\n",
       "3        extra_trees        0.992880\n",
       "4  gradient_boosting        0.992843"
      ]
     },
     "metadata": {},
     "execution_count": 20
    }
   ],
   "metadata": {}
  },
  {
   "cell_type": "code",
   "execution_count": 13,
   "source": [
    "plt.style.use('ggplot')\r\n",
    "plt.figure(figsize=(12, 8))\r\n",
    "sns.barplot(x='averaged_score', y='model', data=df)\r\n",
    "plt.xlim(.9, 1)\r\n",
    "plt.show()"
   ],
   "outputs": [
    {
     "output_type": "display_data",
     "data": {
      "image/png": "[encoded data removed]",
      "text/plain": [
       "<Figure size 864x576 with 1 Axes>"
      ]
     },
     "metadata": {}
    }
   ],
   "metadata": {}
  }
 ],
 "metadata": {
  "kernelspec": {
   "display_name": "Python 3",
   "language": "python",
   "name": "python3"
  },
  "language_info": {
   "codemirror_mode": {
    "name": "ipython",
    "version": 3
   },
   "file_extension": ".py",
   "mimetype": "text/x-python",
   "name": "python",
   "nbconvert_exporter": "python",
   "pygments_lexer": "ipython3",
   "version": "3.8.5"
  }
 },
 "nbformat": 4,
 "nbformat_minor": 5
}