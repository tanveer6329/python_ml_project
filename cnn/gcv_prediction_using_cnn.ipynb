{
 "cells": [
  {
   "cell_type": "markdown",
   "metadata": {
    "papermill": {
     "duration": 0.010542,
     "end_time": "2021-02-27T00:14:18.553147",
     "exception": false,
     "start_time": "2021-02-27T00:14:18.542605",
     "status": "completed"
    },
    "tags": []
   },
   "source": [
    "# Getting Started"
   ]
  },
  {
   "cell_type": "code",
   "execution_count": 48,
   "metadata": {},
   "outputs": [],
   "source": [
    "# target value normalization needed:done"
   ]
  },
  {
   "cell_type": "code",
   "execution_count": 1,
   "metadata": {
    "papermill": {
     "duration": 7.348499,
     "end_time": "2021-02-27T00:14:25.912427",
     "exception": false,
     "start_time": "2021-02-27T00:14:18.563928",
     "status": "completed"
    },
    "tags": []
   },
   "outputs": [],
   "source": [
    "import numpy as np\n",
    "import pandas as pd\n",
    "from pathlib import Path\n",
    "import os.path\n",
    "\n",
    "from sklearn.model_selection import train_test_split\n",
    "\n",
    "import tensorflow as tf\n",
    "\n",
    "from sklearn.metrics import r2_score"
   ]
  },
  {
   "cell_type": "code",
   "execution_count": 2,
   "metadata": {
    "papermill": {
     "duration": 0.019195,
     "end_time": "2021-02-27T00:14:25.943082",
     "exception": false,
     "start_time": "2021-02-27T00:14:25.923887",
     "status": "completed"
    },
    "tags": []
   },
   "outputs": [],
   "source": [
    "image_dir = Path('H:\\project(calorific value)\\cnn\\images_3')"
   ]
  },
  {
   "cell_type": "markdown",
   "metadata": {
    "papermill": {
     "duration": 0.010965,
     "end_time": "2021-02-27T00:14:25.965750",
     "exception": false,
     "start_time": "2021-02-27T00:14:25.954785",
     "status": "completed"
    },
    "tags": []
   },
   "source": [
    "# Create File DataFrame"
   ]
  },
  {
   "cell_type": "code",
   "execution_count": 3,
   "metadata": {},
   "outputs": [
    {
     "name": "stderr",
     "output_type": "stream",
     "text": [
      "<ipython-input-3-84b12b9b79af>:1: FutureWarning: The squeeze argument has been deprecated and will be removed in a future version. Append .squeeze(\"columns\") to the call to squeeze.\n",
      "\n",
      "\n",
      "  gcv = pd.read_csv('target.csv', squeeze=True) # squeeze in used to convert the dataframe to series\n"
     ]
    },
    {
     "data": {
      "text/plain": [
       "0       12312\n",
       "1       11290\n",
       "2       12674\n",
       "3       10130\n",
       "4       12559\n",
       "        ...  \n",
       "6577    11511\n",
       "6578    11862\n",
       "6579    10370\n",
       "6580    10951\n",
       "6581    11226\n",
       "Name: gcv, Length: 6582, dtype: int64"
      ]
     },
     "execution_count": 3,
     "metadata": {},
     "output_type": "execute_result"
    }
   ],
   "source": [
    "gcv = pd.read_csv('target.csv', squeeze=True) # squeeze in used to convert the dataframe to series\n",
    "#gcv = gcv.values\n",
    "gcv"
   ]
  },
  {
   "cell_type": "code",
   "execution_count": 4,
   "metadata": {},
   "outputs": [],
   "source": [
    "from sklearn.preprocessing import MinMaxScaler\n",
    "scaler = MinMaxScaler()\n",
    "gcv_scaled = scaler.fit_transform(gcv.values.reshape(-1,1))"
   ]
  },
  {
   "cell_type": "code",
   "execution_count": 5,
   "metadata": {},
   "outputs": [
    {
     "data": {
      "text/plain": [
       "array([[0.76401061],\n",
       "       [0.68183646],\n",
       "       [0.79311731],\n",
       "       ...,\n",
       "       [0.60786363],\n",
       "       [0.65457908],\n",
       "       [0.67669052]])"
      ]
     },
     "execution_count": 5,
     "metadata": {},
     "output_type": "execute_result"
    }
   ],
   "source": [
    "gcv_scaled"
   ]
  },
  {
   "cell_type": "code",
   "execution_count": 6,
   "metadata": {},
   "outputs": [
    {
     "data": {
      "text/plain": [
       "0       0.764011\n",
       "1       0.681836\n",
       "2       0.793117\n",
       "3       0.588566\n",
       "4       0.783871\n",
       "          ...   \n",
       "6577    0.699606\n",
       "6578    0.727828\n",
       "6579    0.607864\n",
       "6580    0.654579\n",
       "6581    0.676691\n",
       "Name: gcv, Length: 6582, dtype: float64"
      ]
     },
     "execution_count": 6,
     "metadata": {},
     "output_type": "execute_result"
    }
   ],
   "source": [
    "gcv_scaled = gcv_scaled.reshape(1,-1)\n",
    "gcv_scaled = gcv_scaled.squeeze()\n",
    "gcv_scaled = pd.Series(gcv_scaled, name='gcv')\n",
    "gcv_scaled\n"
   ]
  },
  {
   "cell_type": "code",
   "execution_count": 7,
   "metadata": {
    "papermill": {
     "duration": 11.225612,
     "end_time": "2021-02-27T00:14:37.202735",
     "exception": false,
     "start_time": "2021-02-27T00:14:25.977123",
     "status": "completed"
    },
    "tags": []
   },
   "outputs": [],
   "source": [
    "filepaths = pd.Series(list(image_dir.glob(r'**/*.jpg')), name='Filepath').astype(str)\n",
    "\n",
    "images = pd.concat([filepaths, gcv], axis=1).sample(frac=1.0, random_state=1).reset_index(drop=True)"
   ]
  },
  {
   "cell_type": "code",
   "execution_count": 8,
   "metadata": {
    "papermill": {
     "duration": 0.041936,
     "end_time": "2021-02-27T00:14:37.256084",
     "exception": false,
     "start_time": "2021-02-27T00:14:37.214148",
     "status": "completed"
    },
    "tags": []
   },
   "outputs": [
    {
     "data": {
      "text/html": [
       "<div>\n",
       "<style scoped>\n",
       "    .dataframe tbody tr th:only-of-type {\n",
       "        vertical-align: middle;\n",
       "    }\n",
       "\n",
       "    .dataframe tbody tr th {\n",
       "        vertical-align: top;\n",
       "    }\n",
       "\n",
       "    .dataframe thead th {\n",
       "        text-align: right;\n",
       "    }\n",
       "</style>\n",
       "<table border=\"1\" class=\"dataframe\">\n",
       "  <thead>\n",
       "    <tr style=\"text-align: right;\">\n",
       "      <th></th>\n",
       "      <th>Filepath</th>\n",
       "      <th>gcv</th>\n",
       "    </tr>\n",
       "  </thead>\n",
       "  <tbody>\n",
       "    <tr>\n",
       "      <th>0</th>\n",
       "      <td>H:\\project(calorific value)\\cnn\\images_3\\3099.jpg</td>\n",
       "      <td>11914</td>\n",
       "    </tr>\n",
       "    <tr>\n",
       "      <th>1</th>\n",
       "      <td>H:\\project(calorific value)\\cnn\\images_3\\6181.jpg</td>\n",
       "      <td>13591</td>\n",
       "    </tr>\n",
       "    <tr>\n",
       "      <th>2</th>\n",
       "      <td>H:\\project(calorific value)\\cnn\\images_3\\2210.jpg</td>\n",
       "      <td>14766</td>\n",
       "    </tr>\n",
       "    <tr>\n",
       "      <th>3</th>\n",
       "      <td>H:\\project(calorific value)\\cnn\\images_3\\2693.jpg</td>\n",
       "      <td>12954</td>\n",
       "    </tr>\n",
       "    <tr>\n",
       "      <th>4</th>\n",
       "      <td>H:\\project(calorific value)\\cnn\\images_3\\2194.jpg</td>\n",
       "      <td>9909</td>\n",
       "    </tr>\n",
       "  </tbody>\n",
       "</table>\n",
       "</div>"
      ],
      "text/plain": [
       "                                            Filepath    gcv\n",
       "0  H:\\project(calorific value)\\cnn\\images_3\\3099.jpg  11914\n",
       "1  H:\\project(calorific value)\\cnn\\images_3\\6181.jpg  13591\n",
       "2  H:\\project(calorific value)\\cnn\\images_3\\2210.jpg  14766\n",
       "3  H:\\project(calorific value)\\cnn\\images_3\\2693.jpg  12954\n",
       "4  H:\\project(calorific value)\\cnn\\images_3\\2194.jpg   9909"
      ]
     },
     "execution_count": 8,
     "metadata": {},
     "output_type": "execute_result"
    }
   ],
   "source": [
    "images.head()"
   ]
  },
  {
   "cell_type": "code",
   "execution_count": 9,
   "metadata": {
    "papermill": {
     "duration": 0.025704,
     "end_time": "2021-02-27T00:14:37.294248",
     "exception": false,
     "start_time": "2021-02-27T00:14:37.268544",
     "status": "completed"
    },
    "tags": []
   },
   "outputs": [],
   "source": [
    "# Let's only use 5000 images to speed up training time\n",
    "image_df = images.sample(5000, random_state=1).reset_index(drop=True)\n",
    "\n",
    "train_df, test_df = train_test_split(image_df, train_size=0.75, shuffle=True, random_state=1)"
   ]
  },
  {
   "cell_type": "code",
   "execution_count": 10,
   "metadata": {},
   "outputs": [
    {
     "data": {
      "text/html": [
       "<div>\n",
       "<style scoped>\n",
       "    .dataframe tbody tr th:only-of-type {\n",
       "        vertical-align: middle;\n",
       "    }\n",
       "\n",
       "    .dataframe tbody tr th {\n",
       "        vertical-align: top;\n",
       "    }\n",
       "\n",
       "    .dataframe thead th {\n",
       "        text-align: right;\n",
       "    }\n",
       "</style>\n",
       "<table border=\"1\" class=\"dataframe\">\n",
       "  <thead>\n",
       "    <tr style=\"text-align: right;\">\n",
       "      <th></th>\n",
       "      <th>Filepath</th>\n",
       "      <th>gcv</th>\n",
       "    </tr>\n",
       "  </thead>\n",
       "  <tbody>\n",
       "    <tr>\n",
       "      <th>0</th>\n",
       "      <td>H:\\project(calorific value)\\cnn\\images_3\\3625.jpg</td>\n",
       "      <td>6664</td>\n",
       "    </tr>\n",
       "    <tr>\n",
       "      <th>1</th>\n",
       "      <td>H:\\project(calorific value)\\cnn\\images_3\\2591.jpg</td>\n",
       "      <td>11070</td>\n",
       "    </tr>\n",
       "    <tr>\n",
       "      <th>2</th>\n",
       "      <td>H:\\project(calorific value)\\cnn\\images_3\\1922.jpg</td>\n",
       "      <td>7330</td>\n",
       "    </tr>\n",
       "    <tr>\n",
       "      <th>3</th>\n",
       "      <td>H:\\project(calorific value)\\cnn\\images_3\\2215.jpg</td>\n",
       "      <td>11722</td>\n",
       "    </tr>\n",
       "    <tr>\n",
       "      <th>4</th>\n",
       "      <td>H:\\project(calorific value)\\cnn\\images_3\\610.jpg</td>\n",
       "      <td>14187</td>\n",
       "    </tr>\n",
       "    <tr>\n",
       "      <th>...</th>\n",
       "      <td>...</td>\n",
       "      <td>...</td>\n",
       "    </tr>\n",
       "    <tr>\n",
       "      <th>4995</th>\n",
       "      <td>H:\\project(calorific value)\\cnn\\images_3\\733.jpg</td>\n",
       "      <td>8474</td>\n",
       "    </tr>\n",
       "    <tr>\n",
       "      <th>4996</th>\n",
       "      <td>H:\\project(calorific value)\\cnn\\images_3\\1062.jpg</td>\n",
       "      <td>12545</td>\n",
       "    </tr>\n",
       "    <tr>\n",
       "      <th>4997</th>\n",
       "      <td>H:\\project(calorific value)\\cnn\\images_3\\1713.jpg</td>\n",
       "      <td>13734</td>\n",
       "    </tr>\n",
       "    <tr>\n",
       "      <th>4998</th>\n",
       "      <td>H:\\project(calorific value)\\cnn\\images_3\\5068.jpg</td>\n",
       "      <td>11741</td>\n",
       "    </tr>\n",
       "    <tr>\n",
       "      <th>4999</th>\n",
       "      <td>H:\\project(calorific value)\\cnn\\images_3\\333.jpg</td>\n",
       "      <td>14581</td>\n",
       "    </tr>\n",
       "  </tbody>\n",
       "</table>\n",
       "<p>5000 rows × 2 columns</p>\n",
       "</div>"
      ],
      "text/plain": [
       "                                               Filepath    gcv\n",
       "0     H:\\project(calorific value)\\cnn\\images_3\\3625.jpg   6664\n",
       "1     H:\\project(calorific value)\\cnn\\images_3\\2591.jpg  11070\n",
       "2     H:\\project(calorific value)\\cnn\\images_3\\1922.jpg   7330\n",
       "3     H:\\project(calorific value)\\cnn\\images_3\\2215.jpg  11722\n",
       "4      H:\\project(calorific value)\\cnn\\images_3\\610.jpg  14187\n",
       "...                                                 ...    ...\n",
       "4995   H:\\project(calorific value)\\cnn\\images_3\\733.jpg   8474\n",
       "4996  H:\\project(calorific value)\\cnn\\images_3\\1062.jpg  12545\n",
       "4997  H:\\project(calorific value)\\cnn\\images_3\\1713.jpg  13734\n",
       "4998  H:\\project(calorific value)\\cnn\\images_3\\5068.jpg  11741\n",
       "4999   H:\\project(calorific value)\\cnn\\images_3\\333.jpg  14581\n",
       "\n",
       "[5000 rows x 2 columns]"
      ]
     },
     "execution_count": 10,
     "metadata": {},
     "output_type": "execute_result"
    }
   ],
   "source": [
    "image_df"
   ]
  },
  {
   "cell_type": "markdown",
   "metadata": {
    "papermill": {
     "duration": 0.012092,
     "end_time": "2021-02-27T00:14:37.318780",
     "exception": false,
     "start_time": "2021-02-27T00:14:37.306688",
     "status": "completed"
    },
    "tags": []
   },
   "source": [
    "# Loading Images"
   ]
  },
  {
   "cell_type": "code",
   "execution_count": 11,
   "metadata": {
    "papermill": {
     "duration": 0.021125,
     "end_time": "2021-02-27T00:14:37.352366",
     "exception": false,
     "start_time": "2021-02-27T00:14:37.331241",
     "status": "completed"
    },
    "tags": []
   },
   "outputs": [],
   "source": [
    "train_generator = tf.keras.preprocessing.image.ImageDataGenerator(\n",
    "    validation_split=0.2\n",
    ")\n",
    "\n",
    "test_generator = tf.keras.preprocessing.image.ImageDataGenerator()"
   ]
  },
  {
   "cell_type": "code",
   "execution_count": 12,
   "metadata": {
    "papermill": {
     "duration": 1.676354,
     "end_time": "2021-02-27T00:14:39.081855",
     "exception": false,
     "start_time": "2021-02-27T00:14:37.405501",
     "status": "completed"
    },
    "tags": []
   },
   "outputs": [
    {
     "name": "stdout",
     "output_type": "stream",
     "text": [
      "Found 3000 validated image filenames.\n",
      "Found 750 validated image filenames.\n",
      "Found 1250 validated image filenames.\n"
     ]
    }
   ],
   "source": [
    "train_images = train_generator.flow_from_dataframe(\n",
    "    dataframe=train_df,\n",
    "    x_col='Filepath',\n",
    "    y_col='gcv',\n",
    "    color_mode='grayscale',\n",
    "    target_size=(640, 180),\n",
    "    class_mode='raw',\n",
    "    batch_size=32,\n",
    "    shuffle=True,\n",
    "    seed=42,\n",
    "    subset='training'\n",
    ")\n",
    "\n",
    "val_images = train_generator.flow_from_dataframe(\n",
    "    dataframe=train_df,\n",
    "    x_col='Filepath',\n",
    "    y_col='gcv',\n",
    "    color_mode='grayscale',\n",
    "    target_size=(640, 180),\n",
    "    class_mode='raw',\n",
    "    batch_size=32,\n",
    "    shuffle=True,\n",
    "    seed=42,\n",
    "    subset='validation'\n",
    ")\n",
    "\n",
    "test_images = test_generator.flow_from_dataframe(\n",
    "    dataframe=test_df,\n",
    "    x_col='Filepath',\n",
    "    y_col='gcv',\n",
    "    color_mode='grayscale',\n",
    "    target_size=(640, 180),\n",
    "    class_mode='raw',\n",
    "    batch_size=32,\n",
    "    shuffle=False\n",
    ")"
   ]
  },
  {
   "cell_type": "code",
   "execution_count": 13,
   "metadata": {},
   "outputs": [
    {
     "data": {
      "text/plain": [
       "array([10262, 12474, 13200, ...,  9399, 14089, 10218], dtype=int64)"
      ]
     },
     "execution_count": 13,
     "metadata": {},
     "output_type": "execute_result"
    }
   ],
   "source": [
    "test_images.labels"
   ]
  },
  {
   "cell_type": "code",
   "execution_count": 14,
   "metadata": {},
   "outputs": [],
   "source": [
    "\n",
    "# function to convert seconds to into hours, minutes and seconds\n",
    "# this function is used to measure the running time of any model\n",
    "def convert(seconds):\n",
    "    seconds = seconds % (24 * 3600)\n",
    "    hour = seconds // 3600\n",
    "    seconds %= 3600\n",
    "    minutes = seconds // 60\n",
    "    seconds %= 60\n",
    "      \n",
    "    return \"%d:%02d:%02d\" % (hour, minutes, seconds)"
   ]
  },
  {
   "cell_type": "markdown",
   "metadata": {
    "papermill": {
     "duration": 0.013188,
     "end_time": "2021-02-27T00:14:39.108885",
     "exception": false,
     "start_time": "2021-02-27T00:14:39.095697",
     "status": "completed"
    },
    "tags": []
   },
   "source": [
    "# Training"
   ]
  },
  {
   "cell_type": "code",
   "execution_count": 16,
   "metadata": {},
   "outputs": [
    {
     "name": "stdout",
     "output_type": "stream",
     "text": [
      "Epoch 1/10\n",
      "94/94 [==============================] - 174s 2s/step - loss: 9868666.0000 - val_loss: 5423141.0000\n",
      "Epoch 2/10\n",
      "94/94 [==============================] - 95s 1s/step - loss: 5509381.5000 - val_loss: 5194424.0000\n",
      "Epoch 3/10\n",
      "94/94 [==============================] - 93s 984ms/step - loss: 5464595.0000 - val_loss: 5014553.5000\n",
      "Epoch 4/10\n",
      "94/94 [==============================] - 74s 788ms/step - loss: 5067518.5000 - val_loss: 4897231.0000\n",
      "Epoch 5/10\n",
      "94/94 [==============================] - 75s 802ms/step - loss: 5302549.0000 - val_loss: 5718640.5000\n",
      "Epoch 6/10\n",
      "94/94 [==============================] - 72s 770ms/step - loss: 4955453.0000 - val_loss: 4857394.0000\n",
      "Epoch 7/10\n",
      "94/94 [==============================] - 80s 844ms/step - loss: 4976991.0000 - val_loss: 4929308.0000\n",
      "Epoch 8/10\n",
      "94/94 [==============================] - 74s 790ms/step - loss: 5183465.0000 - val_loss: 5732549.5000\n",
      "Epoch 9/10\n",
      "94/94 [==============================] - 79s 834ms/step - loss: 4731832.5000 - val_loss: 5129111.0000\n",
      "Epoch 10/10\n",
      "94/94 [==============================] - 91s 972ms/step - loss: 4726474.0000 - val_loss: 5226261.5000\n",
      "run_time: 0:15:43 h:m:s\n"
     ]
    }
   ],
   "source": [
    "inputs = tf.keras.Input(shape=(640, 180, 1))\n",
    "x = tf.keras.layers.Conv2D(filters=32, strides=2, kernel_size=(3, 3), activation='relu', padding='same')(inputs)\n",
    "x = tf.keras.layers.MaxPool2D()(x)\n",
    "x = tf.keras.layers.Conv2D(filters=64, strides=2, kernel_size=(3, 3), activation='relu', padding='same')(x)\n",
    "x = tf.keras.layers.MaxPool2D()(x)\n",
    "#x = tf.keras.layers.GlobalAveragePooling2D()(x)\n",
    "x = tf.keras.layers.Flatten()(x)\n",
    "x = tf.keras.layers.Dense(50, activation='relu')(x)\n",
    "#x = tf.keras.layers.Dense(0, activation='relu')(x)\n",
    "outputs = tf.keras.layers.Dense(1, activation='linear')(x)\n",
    "\n",
    "model = tf.keras.Model(inputs=inputs, outputs=outputs)\n",
    "\n",
    "model.compile(\n",
    "    optimizer='Adam',\n",
    "    loss='mse'\n",
    ")\n",
    "\n",
    "import time\n",
    "start = time.time() # starting of the time\n",
    "\n",
    "history = model.fit(\n",
    "    train_images,\n",
    "    validation_data=val_images,\n",
    "    epochs=10,\n",
    "    callbacks=[\n",
    "        tf.keras.callbacks.EarlyStopping(\n",
    "            monitor='val_loss',\n",
    "            patience=15,\n",
    "            restore_best_weights=True\n",
    "        )\n",
    "    ]\n",
    ")\n",
    "\n",
    "end = time.time() # ending of the time\n",
    "print('run_time:', convert(end - start), 'h:m:s')\n"
   ]
  },
  {
   "cell_type": "code",
   "execution_count": 86,
   "metadata": {},
   "outputs": [
    {
     "name": "stdout",
     "output_type": "stream",
     "text": [
      "Model: \"model_17\"\n",
      "_________________________________________________________________\n",
      "Layer (type)                 Output Shape              Param #   \n",
      "=================================================================\n",
      "input_20 (InputLayer)        [(None, 640, 180, 1)]     0         \n",
      "_________________________________________________________________\n",
      "conv2d_38 (Conv2D)           (None, 320, 90, 32)       320       \n",
      "_________________________________________________________________\n",
      "max_pooling2d_12 (MaxPooling (None, 160, 45, 32)       0         \n",
      "_________________________________________________________________\n",
      "conv2d_39 (Conv2D)           (None, 80, 23, 64)        18496     \n",
      "_________________________________________________________________\n",
      "max_pooling2d_13 (MaxPooling (None, 40, 11, 64)        0         \n",
      "_________________________________________________________________\n",
      "flatten_8 (Flatten)          (None, 28160)             0         \n",
      "_________________________________________________________________\n",
      "dense_35 (Dense)             (None, 50)                1408050   \n",
      "_________________________________________________________________\n",
      "dense_36 (Dense)             (None, 1)                 51        \n",
      "=================================================================\n",
      "Total params: 1,426,917\n",
      "Trainable params: 1,426,917\n",
      "Non-trainable params: 0\n",
      "_________________________________________________________________\n"
     ]
    }
   ],
   "source": [
    "model.summary()"
   ]
  },
  {
   "cell_type": "markdown",
   "metadata": {
    "papermill": {
     "duration": 0.307441,
     "end_time": "2021-02-27T00:18:18.395037",
     "exception": false,
     "start_time": "2021-02-27T00:18:18.087596",
     "status": "completed"
    },
    "tags": []
   },
   "source": [
    "# Results"
   ]
  },
  {
   "cell_type": "code",
   "execution_count": 87,
   "metadata": {
    "papermill": {
     "duration": 18.304539,
     "end_time": "2021-02-27T00:18:37.008537",
     "exception": false,
     "start_time": "2021-02-27T00:18:18.703998",
     "status": "completed"
    },
    "tags": []
   },
   "outputs": [
    {
     "name": "stdout",
     "output_type": "stream",
     "text": [
      "     Test MSE: 4805096.00000\n",
      "Test R^2 Score: 0.12129\n"
     ]
    }
   ],
   "source": [
    "pred = np.squeeze(model.predict(test_images))\n",
    "y_test = test_images.labels\n",
    "\n",
    "mse = model.evaluate(test_images, verbose=0)\n",
    "print(\"     Test MSE: {:.5f}\".format(mse))\n",
    "\n",
    "r2 = r2_score(y_test, pred)\n",
    "print(\"Test R^2 Score: {:.5f}\".format(r2))"
   ]
  },
  {
   "cell_type": "code",
   "execution_count": 60,
   "metadata": {
    "papermill": {
     "duration": 0.34295,
     "end_time": "2021-02-27T00:18:38.313620",
     "exception": false,
     "start_time": "2021-02-27T00:18:37.970670",
     "status": "completed"
    },
    "tags": []
   },
   "outputs": [
    {
     "name": "stdout",
     "output_type": "stream",
     "text": [
      "Null/Baseline Model Test RMSE: 2328.52984\n"
     ]
    }
   ],
   "source": [
    "# model.save('cnn_model.h5')\n",
    "# model = keras.models.load_model('cnn_model.h5')"
   ]
  },
  {
   "cell_type": "code",
   "execution_count": 78,
   "metadata": {},
   "outputs": [
    {
     "data": {
      "text/plain": [
       "array([10710.199, 11257.08 , 11260.402, ..., 11994.584, 10170.097,\n",
       "       11882.53 ], dtype=float32)"
      ]
     },
     "execution_count": 78,
     "metadata": {},
     "output_type": "execute_result"
    }
   ],
   "source": [
    "pred"
   ]
  },
  {
   "cell_type": "code",
   "execution_count": 79,
   "metadata": {},
   "outputs": [
    {
     "data": {
      "text/plain": [
       "array([10262, 12474, 13200, ...,  9399, 14089, 10218], dtype=int64)"
      ]
     },
     "execution_count": 79,
     "metadata": {},
     "output_type": "execute_result"
    }
   ],
   "source": [
    "y_test"
   ]
  },
  {
   "cell_type": "code",
   "execution_count": 88,
   "metadata": {},
   "outputs": [
    {
     "name": "stdout",
     "output_type": "stream",
     "text": [
      "                            0               1                   2  \\\n",
      "Performance_metrics        R2             MSE  Explained Variance   \n",
      "parikh_et_al         0.121289  4805096.286342            0.121507   \n",
      "\n",
      "                               3          4            5         6  \n",
      "Performance_metrics    Max error  Min error          MAE      MAPE  \n",
      "parikh_et_al         7564.920898   1.564453  1718.069591  0.180299  \n"
     ]
    }
   ],
   "source": [
    "\n",
    "# explained_variance\n",
    "from sklearn.metrics import explained_variance_score\n",
    "explained_variance = explained_variance_score(y_test, pred)\n",
    "\n",
    "# r2_score\n",
    "from sklearn.metrics import r2_score\n",
    "r2 = r2_score(y_test,pred)\n",
    "\n",
    "# max_error\n",
    "from sklearn.metrics import max_error\n",
    "max_error = max_error(y_test, pred)\n",
    "\n",
    "# min error\n",
    "min_error = min(abs(y_test - pred))\n",
    "\n",
    "# mean absolute error\n",
    "from sklearn.metrics import mean_absolute_error\n",
    "MAE = mean_absolute_error(y_test, pred)\n",
    "\n",
    "# mean squared error\n",
    "from sklearn.metrics import mean_squared_error\n",
    "MSE = mean_squared_error(y_test, pred)\n",
    "\n",
    "# mean_absolute_percentage_error\n",
    "from sklearn.metrics import mean_absolute_percentage_error\n",
    "MAPE = mean_absolute_percentage_error(y_test, pred)\n",
    "\n",
    "\n",
    "metrics = {\n",
    "\t\t'Performance_metrics': ['R2', 'MSE', 'Explained Variance',  'Max error', 'Min error', 'MAE',  'MAPE'],\n",
    "\t\t'parikh_et_al': [r2, MSE, explained_variance,  max_error, min_error, MAE, MAPE]\n",
    "\t}\n",
    "\n",
    "performance_metrics = pd.DataFrame(metrics)\n",
    "performance = performance_metrics.transpose()\n",
    "\n",
    "print(performance)"
   ]
  },
  {
   "cell_type": "code",
   "execution_count": 89,
   "metadata": {},
   "outputs": [],
   "source": [
    "performance.to_csv('performance_metrics_for_cnn.csv')"
   ]
  },
  {
   "cell_type": "code",
   "execution_count": 90,
   "metadata": {},
   "outputs": [
    {
     "data": {
      "text/plain": [
       "Text(0.5, 1.0, 'Regression Plot')"
      ]
     },
     "execution_count": 90,
     "metadata": {},
     "output_type": "execute_result"
    },
    {
     "data": {
      "image/png": "[encoded data removed]",
      "text/plain": [
       "<Figure size 864x576 with 1 Axes>"
      ]
     },
     "metadata": {},
     "output_type": "display_data"
    }
   ],
   "source": [
    "import matplotlib.pyplot as plt\n",
    "import seaborn as sns\n",
    "%matplotlib inline\n",
    "plt.style.use('ggplot')\n",
    "plt.figure(figsize=(12, 8))\n",
    "x, y = y_test, pred\n",
    "plt.scatter(x, y, color='blue', marker=(5,2))\n",
    "m, b = np.polyfit(x, y, 1)\n",
    "plt.plot(x, m*x + b, color='r')\n",
    "plt.xlabel(\"original test value\")\n",
    "plt.ylabel(\"prediction\")\n",
    "plt.title(\"Regression Plot\")"
   ]
  }
 ],
 "metadata": {
  "kernelspec": {
   "display_name": "Python 3.9.12 ('base')",
   "language": "python",
   "name": "python3"
  },
  "language_info": {
   "codemirror_mode": {
    "name": "ipython",
    "version": 3
   },
   "file_extension": ".py",
   "mimetype": "text/x-python",
   "name": "python",
   "nbconvert_exporter": "python",
   "pygments_lexer": "ipython3",
   "version": "3.9.12"
  },
  "papermill": {
   "default_parameters": {},
   "duration": 267.57066,
   "end_time": "2021-02-27T00:18:40.366182",
   "environment_variables": {},
   "exception": null,
   "input_path": "__notebook__.ipynb",
   "output_path": "__notebook__.ipynb",
   "parameters": {},
   "start_time": "2021-02-27T00:14:12.795522",
   "version": "2.2.2"
  },
  "vscode": {
   "interpreter": {
    "hash": "dc07d24e2f18896857f0b2a651fe84ba40ce7b297e58d8804a308c8039f752a6"
   }
  }
 },
 "nbformat": 4,
 "nbformat_minor": 4
}
