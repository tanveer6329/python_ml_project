{
 "cells": [
  {
   "cell_type": "code",
   "execution_count": 2,
   "metadata": {},
   "outputs": [],
   "source": [
    "import numpy as np\n",
    "import pandas as pd\n",
    "import matplotlib.pyplot as plt\n",
    "import seaborn as sns\n",
    "%matplotlib inline\n",
    "# sns.set()"
   ]
  },
  {
   "cell_type": "markdown",
   "metadata": {},
   "source": [
    "### Read the csv file and checking the first five observation"
   ]
  },
  {
   "cell_type": "code",
   "execution_count": 6,
   "metadata": {
    "scrolled": true
   },
   "outputs": [
    {
     "data": {
      "text/html": [
       "<div>\n",
       "<style scoped>\n",
       "    .dataframe tbody tr th:only-of-type {\n",
       "        vertical-align: middle;\n",
       "    }\n",
       "\n",
       "    .dataframe tbody tr th {\n",
       "        vertical-align: top;\n",
       "    }\n",
       "\n",
       "    .dataframe thead th {\n",
       "        text-align: right;\n",
       "    }\n",
       "</style>\n",
       "<table border=\"1\" class=\"dataframe\">\n",
       "  <thead>\n",
       "    <tr style=\"text-align: right;\">\n",
       "      <th></th>\n",
       "      <th>moistr</th>\n",
       "      <th>volmat</th>\n",
       "      <th>fixedc</th>\n",
       "      <th>ash</th>\n",
       "      <th>hydrgn</th>\n",
       "      <th>carbon</th>\n",
       "      <th>nitrgn</th>\n",
       "      <th>oxygen</th>\n",
       "      <th>sulfur</th>\n",
       "      <th>gcv</th>\n",
       "    </tr>\n",
       "  </thead>\n",
       "  <tbody>\n",
       "    <tr>\n",
       "      <th>0</th>\n",
       "      <td>6.98</td>\n",
       "      <td>33.02</td>\n",
       "      <td>57.42</td>\n",
       "      <td>2.58</td>\n",
       "      <td>5.14</td>\n",
       "      <td>71.80</td>\n",
       "      <td>1.13</td>\n",
       "      <td>18.91</td>\n",
       "      <td>0.44</td>\n",
       "      <td>12312</td>\n",
       "    </tr>\n",
       "    <tr>\n",
       "      <th>1</th>\n",
       "      <td>11.15</td>\n",
       "      <td>26.39</td>\n",
       "      <td>58.32</td>\n",
       "      <td>4.14</td>\n",
       "      <td>5.05</td>\n",
       "      <td>66.71</td>\n",
       "      <td>1.40</td>\n",
       "      <td>22.10</td>\n",
       "      <td>0.60</td>\n",
       "      <td>11290</td>\n",
       "    </tr>\n",
       "    <tr>\n",
       "      <th>2</th>\n",
       "      <td>2.38</td>\n",
       "      <td>29.88</td>\n",
       "      <td>54.64</td>\n",
       "      <td>13.10</td>\n",
       "      <td>4.66</td>\n",
       "      <td>69.69</td>\n",
       "      <td>1.25</td>\n",
       "      <td>6.07</td>\n",
       "      <td>5.23</td>\n",
       "      <td>12674</td>\n",
       "    </tr>\n",
       "    <tr>\n",
       "      <th>3</th>\n",
       "      <td>3.38</td>\n",
       "      <td>28.61</td>\n",
       "      <td>40.39</td>\n",
       "      <td>27.62</td>\n",
       "      <td>4.30</td>\n",
       "      <td>55.02</td>\n",
       "      <td>1.15</td>\n",
       "      <td>6.78</td>\n",
       "      <td>5.13</td>\n",
       "      <td>10130</td>\n",
       "    </tr>\n",
       "    <tr>\n",
       "      <th>4</th>\n",
       "      <td>10.67</td>\n",
       "      <td>27.92</td>\n",
       "      <td>54.50</td>\n",
       "      <td>6.91</td>\n",
       "      <td>5.43</td>\n",
       "      <td>70.17</td>\n",
       "      <td>1.54</td>\n",
       "      <td>14.80</td>\n",
       "      <td>1.15</td>\n",
       "      <td>12559</td>\n",
       "    </tr>\n",
       "  </tbody>\n",
       "</table>\n",
       "</div>"
      ],
      "text/plain": [
       "   moistr  volmat  fixedc    ash  hydrgn  carbon  nitrgn  oxygen  sulfur  \\\n",
       "0    6.98   33.02   57.42   2.58    5.14   71.80    1.13   18.91    0.44   \n",
       "1   11.15   26.39   58.32   4.14    5.05   66.71    1.40   22.10    0.60   \n",
       "2    2.38   29.88   54.64  13.10    4.66   69.69    1.25    6.07    5.23   \n",
       "3    3.38   28.61   40.39  27.62    4.30   55.02    1.15    6.78    5.13   \n",
       "4   10.67   27.92   54.50   6.91    5.43   70.17    1.54   14.80    1.15   \n",
       "\n",
       "     gcv  \n",
       "0  12312  \n",
       "1  11290  \n",
       "2  12674  \n",
       "3  10130  \n",
       "4  12559  "
      ]
     },
     "execution_count": 6,
     "metadata": {},
     "output_type": "execute_result"
    }
   ],
   "source": [
    "df = pd.read_csv('coalv2.csv')\n",
    "df.head()"
   ]
  },
  {
   "cell_type": "code",
   "execution_count": 7,
   "metadata": {},
   "outputs": [
    {
     "name": "stdout",
     "output_type": "stream",
     "text": [
      "<class 'pandas.core.frame.DataFrame'>\n",
      "RangeIndex: 5000 entries, 0 to 4999\n",
      "Data columns (total 10 columns):\n",
      " #   Column  Non-Null Count  Dtype  \n",
      "---  ------  --------------  -----  \n",
      " 0   moistr  5000 non-null   float64\n",
      " 1   volmat  5000 non-null   float64\n",
      " 2   fixedc  5000 non-null   float64\n",
      " 3   ash     5000 non-null   float64\n",
      " 4   hydrgn  5000 non-null   float64\n",
      " 5   carbon  5000 non-null   float64\n",
      " 6   nitrgn  5000 non-null   float64\n",
      " 7   oxygen  5000 non-null   float64\n",
      " 8   sulfur  5000 non-null   float64\n",
      " 9   gcv     5000 non-null   int64  \n",
      "dtypes: float64(9), int64(1)\n",
      "memory usage: 390.8 KB\n"
     ]
    }
   ],
   "source": [
    "coal = df.iloc[:5000, ]\n",
    "coal.info()"
   ]
  },
  {
   "cell_type": "code",
   "execution_count": 8,
   "metadata": {},
   "outputs": [
    {
     "data": {
      "text/html": [
       "<div>\n",
       "<style scoped>\n",
       "    .dataframe tbody tr th:only-of-type {\n",
       "        vertical-align: middle;\n",
       "    }\n",
       "\n",
       "    .dataframe tbody tr th {\n",
       "        vertical-align: top;\n",
       "    }\n",
       "\n",
       "    .dataframe thead th {\n",
       "        text-align: right;\n",
       "    }\n",
       "</style>\n",
       "<table border=\"1\" class=\"dataframe\">\n",
       "  <thead>\n",
       "    <tr style=\"text-align: right;\">\n",
       "      <th></th>\n",
       "      <th>moistr</th>\n",
       "      <th>volmat</th>\n",
       "      <th>fixedc</th>\n",
       "      <th>ash</th>\n",
       "      <th>hydrgn</th>\n",
       "      <th>carbon</th>\n",
       "      <th>nitrgn</th>\n",
       "      <th>oxygen</th>\n",
       "      <th>sulfur</th>\n",
       "      <th>gcv</th>\n",
       "    </tr>\n",
       "  </thead>\n",
       "  <tbody>\n",
       "    <tr>\n",
       "      <th>count</th>\n",
       "      <td>5000.000000</td>\n",
       "      <td>5000.000000</td>\n",
       "      <td>5000.000000</td>\n",
       "      <td>5000.000000</td>\n",
       "      <td>5000.000000</td>\n",
       "      <td>5000.000000</td>\n",
       "      <td>5000.000000</td>\n",
       "      <td>5000.000000</td>\n",
       "      <td>5000.000000</td>\n",
       "      <td>5000.000000</td>\n",
       "    </tr>\n",
       "    <tr>\n",
       "      <th>mean</th>\n",
       "      <td>8.532248</td>\n",
       "      <td>32.682508</td>\n",
       "      <td>47.241944</td>\n",
       "      <td>11.538208</td>\n",
       "      <td>5.285984</td>\n",
       "      <td>64.492304</td>\n",
       "      <td>1.289086</td>\n",
       "      <td>15.235940</td>\n",
       "      <td>2.150102</td>\n",
       "      <td>11476.290600</td>\n",
       "    </tr>\n",
       "    <tr>\n",
       "      <th>std</th>\n",
       "      <td>10.663940</td>\n",
       "      <td>6.390744</td>\n",
       "      <td>10.713838</td>\n",
       "      <td>5.976976</td>\n",
       "      <td>0.735152</td>\n",
       "      <td>12.055869</td>\n",
       "      <td>0.353869</td>\n",
       "      <td>11.743269</td>\n",
       "      <td>1.846079</td>\n",
       "      <td>2262.927779</td>\n",
       "    </tr>\n",
       "    <tr>\n",
       "      <th>min</th>\n",
       "      <td>0.500000</td>\n",
       "      <td>3.000000</td>\n",
       "      <td>7.800000</td>\n",
       "      <td>0.900000</td>\n",
       "      <td>0.400000</td>\n",
       "      <td>4.650000</td>\n",
       "      <td>0.200000</td>\n",
       "      <td>0.200000</td>\n",
       "      <td>0.090000</td>\n",
       "      <td>2810.000000</td>\n",
       "    </tr>\n",
       "    <tr>\n",
       "      <th>25%</th>\n",
       "      <td>2.200000</td>\n",
       "      <td>29.200000</td>\n",
       "      <td>41.800000</td>\n",
       "      <td>7.100000</td>\n",
       "      <td>4.900000</td>\n",
       "      <td>59.200000</td>\n",
       "      <td>1.100000</td>\n",
       "      <td>7.700000</td>\n",
       "      <td>0.700000</td>\n",
       "      <td>10556.500000</td>\n",
       "    </tr>\n",
       "    <tr>\n",
       "      <th>50%</th>\n",
       "      <td>3.610000</td>\n",
       "      <td>33.825000</td>\n",
       "      <td>47.700000</td>\n",
       "      <td>10.500000</td>\n",
       "      <td>5.250000</td>\n",
       "      <td>67.400000</td>\n",
       "      <td>1.305000</td>\n",
       "      <td>10.620000</td>\n",
       "      <td>1.515000</td>\n",
       "      <td>12104.500000</td>\n",
       "    </tr>\n",
       "    <tr>\n",
       "      <th>75%</th>\n",
       "      <td>9.332500</td>\n",
       "      <td>37.100000</td>\n",
       "      <td>53.330000</td>\n",
       "      <td>14.900000</td>\n",
       "      <td>5.600000</td>\n",
       "      <td>72.955000</td>\n",
       "      <td>1.510000</td>\n",
       "      <td>18.000000</td>\n",
       "      <td>3.190000</td>\n",
       "      <td>13058.000000</td>\n",
       "    </tr>\n",
       "    <tr>\n",
       "      <th>max</th>\n",
       "      <td>57.200000</td>\n",
       "      <td>49.700000</td>\n",
       "      <td>87.000000</td>\n",
       "      <td>32.900000</td>\n",
       "      <td>8.200000</td>\n",
       "      <td>88.200000</td>\n",
       "      <td>5.600000</td>\n",
       "      <td>59.900000</td>\n",
       "      <td>17.300000</td>\n",
       "      <td>15193.000000</td>\n",
       "    </tr>\n",
       "  </tbody>\n",
       "</table>\n",
       "</div>"
      ],
      "text/plain": [
       "            moistr       volmat       fixedc          ash       hydrgn  \\\n",
       "count  5000.000000  5000.000000  5000.000000  5000.000000  5000.000000   \n",
       "mean      8.532248    32.682508    47.241944    11.538208     5.285984   \n",
       "std      10.663940     6.390744    10.713838     5.976976     0.735152   \n",
       "min       0.500000     3.000000     7.800000     0.900000     0.400000   \n",
       "25%       2.200000    29.200000    41.800000     7.100000     4.900000   \n",
       "50%       3.610000    33.825000    47.700000    10.500000     5.250000   \n",
       "75%       9.332500    37.100000    53.330000    14.900000     5.600000   \n",
       "max      57.200000    49.700000    87.000000    32.900000     8.200000   \n",
       "\n",
       "            carbon       nitrgn       oxygen       sulfur           gcv  \n",
       "count  5000.000000  5000.000000  5000.000000  5000.000000   5000.000000  \n",
       "mean     64.492304     1.289086    15.235940     2.150102  11476.290600  \n",
       "std      12.055869     0.353869    11.743269     1.846079   2262.927779  \n",
       "min       4.650000     0.200000     0.200000     0.090000   2810.000000  \n",
       "25%      59.200000     1.100000     7.700000     0.700000  10556.500000  \n",
       "50%      67.400000     1.305000    10.620000     1.515000  12104.500000  \n",
       "75%      72.955000     1.510000    18.000000     3.190000  13058.000000  \n",
       "max      88.200000     5.600000    59.900000    17.300000  15193.000000  "
      ]
     },
     "execution_count": 8,
     "metadata": {},
     "output_type": "execute_result"
    }
   ],
   "source": [
    "coal.describe()"
   ]
  },
  {
   "cell_type": "code",
   "execution_count": 9,
   "metadata": {},
   "outputs": [],
   "source": [
    "# selecting features and label\n",
    "X = coal.iloc[:, :-1]  # features\n",
    "y = coal.iloc[:,-1]  #label"
   ]
  },
  {
   "cell_type": "code",
   "execution_count": 10,
   "metadata": {},
   "outputs": [
    {
     "data": {
      "text/plain": [
       "[(5000, 9), (5000,)]"
      ]
     },
     "execution_count": 10,
     "metadata": {},
     "output_type": "execute_result"
    }
   ],
   "source": [
    "[X.shape, y.shape]"
   ]
  },
  {
   "cell_type": "markdown",
   "metadata": {},
   "source": [
    "###  Split into train and test set\n",
    "___\n",
    "###  Standardization:\n",
    "$$x^{'} = \\frac{x - \\bar{x}}{\\sigma}$$\n",
    "\n",
    "where, \n",
    "$\\bar{x}$ = mean of a certain feature\n",
    "$\\sigma$ = standard deviation of a certain feature\n",
    "___\n"
   ]
  },
  {
   "cell_type": "code",
   "execution_count": 11,
   "metadata": {},
   "outputs": [],
   "source": [
    "# spliting into training and testing set for both X and y\n",
    "from sklearn.model_selection import train_test_split\n",
    "X_train, X_test, y_train, y_test = train_test_split(X,y, test_size=0.3, random_state=None )\n",
    "\n",
    "# Standardization\n",
    "from sklearn.preprocessing import StandardScaler\n",
    "\n",
    "# transforming X_train value to feed to the model\n",
    "scaler = StandardScaler()\n",
    "X_train_scaled = scaler.fit_transform(X_train)\n",
    "\n",
    "# transforming X_test value for predicting for new cases\n",
    "X_test_scaled = scaler.transform(X_test)"
   ]
  },
  {
   "cell_type": "code",
   "execution_count": 12,
   "metadata": {},
   "outputs": [],
   "source": [
    "\n",
    "# function to convert seconds to into hours, minutes and seconds\n",
    "# this function is used to measure the running time of any model\n",
    "def convert(seconds):\n",
    "    seconds = seconds % (24 * 3600)\n",
    "    hour = seconds // 3600\n",
    "    seconds %= 3600\n",
    "    minutes = seconds // 60\n",
    "    seconds %= 60\n",
    "      \n",
    "    return \"%d:%02d:%02d\" % (hour, minutes, seconds)"
   ]
  },
  {
   "cell_type": "markdown",
   "metadata": {},
   "source": [
    "### Loading the linear regression model from sklearn\n",
    "### Fit the model, do the prediction"
   ]
  },
  {
   "cell_type": "code",
   "execution_count": 13,
   "metadata": {},
   "outputs": [
    {
     "name": "stdout",
     "output_type": "stream",
     "text": [
      "run_time: 0:00:00 h:m:s\n"
     ]
    },
    {
     "name": "stderr",
     "output_type": "stream",
     "text": [
      "C:\\Users\\HP\\anaconda3\\lib\\site-packages\\sklearn\\linear_model\\_base.py:148: FutureWarning: 'normalize' was deprecated in version 1.0 and will be removed in 1.2. Please leave the normalize parameter to its default value to silence this warning. The default behavior of this estimator is to not do any normalization. If normalization is needed please use sklearn.preprocessing.StandardScaler instead.\n",
      "  warnings.warn(\n"
     ]
    }
   ],
   "source": [
    "import time\n",
    "from sklearn.linear_model import LinearRegression # LinearRegression, Ridge, LogisticRegression\n",
    "regressor = LinearRegression(fit_intercept=True, normalize=False, copy_X=True, n_jobs=None, positive=False)\n",
    "\n",
    "start = time.time() # starting of the time\n",
    "# fit/train the model\n",
    "regressor.fit(X_train_scaled,y_train)\n",
    "\n",
    "end = time.time() # ending of the time\n",
    "print('run_time:', convert(end - start), 'h:m:s')\n",
    "\n",
    "#prediction using test cases or completely new cases\n",
    "pred = regressor.predict(X_test_scaled)"
   ]
  },
  {
   "cell_type": "markdown",
   "metadata": {},
   "source": [
    "### Saving trained model to a file and reading the same file using pickle module"
   ]
  },
  {
   "cell_type": "code",
   "execution_count": 14,
   "metadata": {},
   "outputs": [],
   "source": [
    "# import pickle\n",
    "\n",
    "# with open('trained_svm_model', 'wb') as f:\n",
    "#    pickle.dump(regressor, f)\n",
    "\n",
    "#with open('trained_svm_model', 'rb') as f:\n",
    "#    mp = pickle.load(f)\n",
    "#    mp.predict(X)"
   ]
  },
  {
   "cell_type": "markdown",
   "metadata": {},
   "source": [
    "### Another approach for saving and reading the trained model using joblib module\n",
    "- It is more efficient on objects that carry large numpy arrays internally as is often the case for fitted scikit-learn estimators"
   ]
  },
  {
   "cell_type": "code",
   "execution_count": 15,
   "metadata": {},
   "outputs": [
    {
     "data": {
      "text/plain": [
       "['trained_linear_regression_model.joblib']"
      ]
     },
     "execution_count": 15,
     "metadata": {},
     "output_type": "execute_result"
    }
   ],
   "source": [
    "#from sklearn.externals import joblib\n",
    "from joblib import dump, load\n",
    "dump(regressor, 'trained_linear_regression_model.joblib') \n",
    "\n",
    "#clf = load('trained_linear_regression_model.joblib')"
   ]
  },
  {
   "cell_type": "markdown",
   "metadata": {},
   "source": [
    "### Model evaluation metrics for regression\n",
    "**R_squared_score**:\n",
    "$$R^2(y, \\hat{y}) = 1 - \\frac{\\sum_{i=1}^{n}(y_i - \\hat{y_i})^2}{\\sum_{i=1}^{n}(y_i - \\bar{y})^2}$$\n",
    "**Explained_variance**:\n",
    "$$(y, \\hat{y}) = 1 - \\frac{Var\\{y-\\hat{y}\\}}{Var\\{y\\}}$$\n",
    "\n",
    "**Max_error**:\n",
    "$$(y, \\hat{y}) = max(|y_i - \\hat{y_i}|)$$\n",
    "\n",
    "**Mean Absolute Error** (MAE) is the mean of the absolute value of the errors:\n",
    "$$\\frac 1n\\sum_{i=1}^n|y_i-\\hat{y}_i|$$\n",
    "\n",
    "**Mean Squared Error** (MSE) is the mean of the squared errors:\n",
    "$$\\frac 1n\\sum_{i=1}^n(y_i-\\hat{y}_i)^2$$\n",
    "\n",
    "**Root Mean Squared Error** (RMSE) is the square root of the mean of the squared errors:\n",
    "$$\\sqrt{\\frac 1n\\sum_{i=1}^n(y_i-\\hat{y}_i)^2}$$"
   ]
  },
  {
   "cell_type": "markdown",
   "metadata": {},
   "source": [
    "### Evaluation Metrics for testing set"
   ]
  },
  {
   "cell_type": "code",
   "execution_count": 16,
   "metadata": {},
   "outputs": [],
   "source": [
    "# explained_variance\n",
    "from sklearn.metrics import explained_variance_score\n",
    "explained_variance = explained_variance_score(y_test, pred)\n",
    "\n",
    "# r2_score\n",
    "from sklearn.metrics import r2_score\n",
    "r2 = r2_score(y_test,pred)\n",
    "\n",
    "# max_error\n",
    "from sklearn.metrics import max_error\n",
    "max_error = max_error(y_test, pred)\n",
    "\n",
    "# mean absolute error\n",
    "from sklearn.metrics import mean_absolute_error\n",
    "MAE = mean_absolute_error(y_test, pred)\n",
    "\n",
    "# mean squared error\n",
    "from sklearn.metrics import mean_squared_error\n",
    "MSE = mean_squared_error(y_test, pred)\n",
    "\n",
    "# mean_absolute_percentage_error\n",
    "from sklearn.metrics import mean_absolute_percentage_error\n",
    "MAPE = mean_absolute_percentage_error(y_test, pred)\n",
    "\n",
    "# root mean squared error\n",
    "RMSE = np.sqrt(MSE)\n",
    "\n",
    "metrics = {\n",
    "'Performance_metrics':['explained_variance', 'r_square_value', 'max_error', 'mean_absolute_error (MAE)',\n",
    "                       'mean_squared_error (MSE)', 'root_mean_squared_error (RMSE)',\n",
    "                       'mean_absolute_percentage_error (MAPE)'],\n",
    "'Value':[explained_variance, r2, max_error, MAE, MSE, RMSE, MAPE]\n",
    "}\n",
    "\n",
    "performance_metrics = pd.DataFrame(metrics)\n",
    " "
   ]
  },
  {
   "cell_type": "code",
   "execution_count": 17,
   "metadata": {},
   "outputs": [
    {
     "data": {
      "text/html": [
       "<div>\n",
       "<style scoped>\n",
       "    .dataframe tbody tr th:only-of-type {\n",
       "        vertical-align: middle;\n",
       "    }\n",
       "\n",
       "    .dataframe tbody tr th {\n",
       "        vertical-align: top;\n",
       "    }\n",
       "\n",
       "    .dataframe thead th {\n",
       "        text-align: right;\n",
       "    }\n",
       "</style>\n",
       "<table border=\"1\" class=\"dataframe\">\n",
       "  <thead>\n",
       "    <tr style=\"text-align: right;\">\n",
       "      <th></th>\n",
       "      <th>Performance_metrics</th>\n",
       "      <th>Value</th>\n",
       "    </tr>\n",
       "  </thead>\n",
       "  <tbody>\n",
       "    <tr>\n",
       "      <th>0</th>\n",
       "      <td>explained_variance</td>\n",
       "      <td>0.991913</td>\n",
       "    </tr>\n",
       "    <tr>\n",
       "      <th>1</th>\n",
       "      <td>r_square_value</td>\n",
       "      <td>0.991913</td>\n",
       "    </tr>\n",
       "    <tr>\n",
       "      <th>2</th>\n",
       "      <td>max_error</td>\n",
       "      <td>6226.093485</td>\n",
       "    </tr>\n",
       "    <tr>\n",
       "      <th>3</th>\n",
       "      <td>mean_absolute_error (MAE)</td>\n",
       "      <td>86.863772</td>\n",
       "    </tr>\n",
       "    <tr>\n",
       "      <th>4</th>\n",
       "      <td>mean_squared_error (MSE)</td>\n",
       "      <td>43269.409789</td>\n",
       "    </tr>\n",
       "    <tr>\n",
       "      <th>5</th>\n",
       "      <td>root_mean_squared_error (RMSE)</td>\n",
       "      <td>208.013004</td>\n",
       "    </tr>\n",
       "    <tr>\n",
       "      <th>6</th>\n",
       "      <td>mean_absolute_percentage_error (MAPE)</td>\n",
       "      <td>0.008452</td>\n",
       "    </tr>\n",
       "  </tbody>\n",
       "</table>\n",
       "</div>"
      ],
      "text/plain": [
       "                     Performance_metrics         Value\n",
       "0                     explained_variance      0.991913\n",
       "1                         r_square_value      0.991913\n",
       "2                              max_error   6226.093485\n",
       "3              mean_absolute_error (MAE)     86.863772\n",
       "4               mean_squared_error (MSE)  43269.409789\n",
       "5         root_mean_squared_error (RMSE)    208.013004\n",
       "6  mean_absolute_percentage_error (MAPE)      0.008452"
      ]
     },
     "execution_count": 17,
     "metadata": {},
     "output_type": "execute_result"
    }
   ],
   "source": [
    "performance_metrics"
   ]
  },
  {
   "cell_type": "code",
   "execution_count": 18,
   "metadata": {},
   "outputs": [],
   "source": [
    "d = {\n",
    "    'pred': pred,\n",
    "    'y_test': y_test\n",
    "}\n",
    "# mvr = pd.DataFrame([pred, y_test], columns = ['pred', 'y_test']).transpose()\n",
    "df = pd.DataFrame(d)\n",
    "df = df.reset_index(drop=True)\n",
    "df.to_csv(\"regression_mvr_plot.csv\")"
   ]
  },
  {
   "cell_type": "markdown",
   "metadata": {},
   "source": [
    "### Regression plot for testing set"
   ]
  },
  {
   "cell_type": "code",
   "execution_count": 19,
   "metadata": {},
   "outputs": [
    {
     "data": {
      "image/png": "[encoded data removed]",
      "text/plain": [
       "<Figure size 648x396 with 1 Axes>"
      ]
     },
     "metadata": {
      "needs_background": "light"
     },
     "output_type": "display_data"
    }
   ],
   "source": [
    "plt.figure(figsize=(9, 5.5))\n",
    "plt.rcParams[\"font.family\"] = \"Times New Roman\"\n",
    "plt.rcParams.update({\n",
    "    \"text.usetex\": True\n",
    "})\n",
    "\n",
    "sns.regplot(x=y_test, y=pred, scatter_kws={\"color\": \"C0\"}, line_kws={\"color\": \"C1\"})\n",
    "plt.text(3225, 14389,\"$R^2: 0.997$\", fontsize=17, fontweight='bold')\n",
    "\n",
    "\n",
    "plt.xlabel(\"Actual GCV (BTU/lb)\", fontsize=20)\n",
    "plt.ylabel(\"Predicted GCV (BTU/lb)\", fontsize=20)\n",
    "plt.xticks(fontsize=17, fontweight='bold')\n",
    "plt.yticks(fontsize=17, fontweight='bold')\n",
    "\n",
    "plt.tight_layout()\n",
    "plt.savefig(\"regression_plot_mvr_v2.png\", dpi=300)\n",
    "plt.show()"
   ]
  },
  {
   "cell_type": "code",
   "execution_count": 20,
   "metadata": {},
   "outputs": [],
   "source": [
    "# plt.figure(figsize=(12, 8))\n",
    "# x, y = y_test, pred\n",
    "# plt.scatter(x, y, color='blue', marker=(5,2))\n",
    "# m, b = np.polyfit(x, y, 1)\n",
    "# plt.plot(x, m*x + b, color='r')\n",
    "# plt.xlabel(\"original test value\")\n",
    "# plt.ylabel(\"prediction\")\n",
    "# plt.title(\"Regression Plot\")"
   ]
  },
  {
   "cell_type": "code",
   "execution_count": null,
   "metadata": {},
   "outputs": [],
   "source": []
  }
 ],
 "metadata": {
  "interpreter": {
   "hash": "dc07d24e2f18896857f0b2a651fe84ba40ce7b297e58d8804a308c8039f752a6"
  },
  "kernelspec": {
   "display_name": "Python 3 (ipykernel)",
   "language": "python",
   "name": "python3"
  },
  "language_info": {
   "codemirror_mode": {
    "name": "ipython",
    "version": 3
   },
   "file_extension": ".py",
   "mimetype": "text/x-python",
   "name": "python",
   "nbconvert_exporter": "python",
   "pygments_lexer": "ipython3",
   "version": "3.9.12"
  }
 },
 "nbformat": 4,
 "nbformat_minor": 4
}
