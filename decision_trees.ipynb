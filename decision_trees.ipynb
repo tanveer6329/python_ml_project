{
 "cells": [
  {
   "cell_type": "code",
   "execution_count": 2,
   "metadata": {},
   "outputs": [],
   "source": [
    "import numpy as np\n",
    "import pandas as pd\n",
    "import matplotlib.pyplot as plt\n",
    "import seaborn as sns\n",
    "%matplotlib inline"
   ]
  },
  {
   "cell_type": "markdown",
   "metadata": {},
   "source": [
    "### Read the csv file and checking the first five observation"
   ]
  },
  {
   "cell_type": "code",
   "execution_count": 3,
   "metadata": {
    "scrolled": true
   },
   "outputs": [
    {
     "data": {
      "text/html": [
       "<div>\n",
       "<style scoped>\n",
       "    .dataframe tbody tr th:only-of-type {\n",
       "        vertical-align: middle;\n",
       "    }\n",
       "\n",
       "    .dataframe tbody tr th {\n",
       "        vertical-align: top;\n",
       "    }\n",
       "\n",
       "    .dataframe thead th {\n",
       "        text-align: right;\n",
       "    }\n",
       "</style>\n",
       "<table border=\"1\" class=\"dataframe\">\n",
       "  <thead>\n",
       "    <tr style=\"text-align: right;\">\n",
       "      <th></th>\n",
       "      <th>moistr</th>\n",
       "      <th>volmat</th>\n",
       "      <th>fixedc</th>\n",
       "      <th>ash</th>\n",
       "      <th>hydrgn</th>\n",
       "      <th>carbon</th>\n",
       "      <th>nitrgn</th>\n",
       "      <th>oxygen</th>\n",
       "      <th>sulfur</th>\n",
       "      <th>gcv</th>\n",
       "    </tr>\n",
       "  </thead>\n",
       "  <tbody>\n",
       "    <tr>\n",
       "      <th>0</th>\n",
       "      <td>6.98</td>\n",
       "      <td>33.02</td>\n",
       "      <td>57.42</td>\n",
       "      <td>2.58</td>\n",
       "      <td>5.14</td>\n",
       "      <td>71.80</td>\n",
       "      <td>1.13</td>\n",
       "      <td>18.91</td>\n",
       "      <td>0.44</td>\n",
       "      <td>12312</td>\n",
       "    </tr>\n",
       "    <tr>\n",
       "      <th>1</th>\n",
       "      <td>11.15</td>\n",
       "      <td>26.39</td>\n",
       "      <td>58.32</td>\n",
       "      <td>4.14</td>\n",
       "      <td>5.05</td>\n",
       "      <td>66.71</td>\n",
       "      <td>1.40</td>\n",
       "      <td>22.10</td>\n",
       "      <td>0.60</td>\n",
       "      <td>11290</td>\n",
       "    </tr>\n",
       "    <tr>\n",
       "      <th>2</th>\n",
       "      <td>2.38</td>\n",
       "      <td>29.88</td>\n",
       "      <td>54.64</td>\n",
       "      <td>13.10</td>\n",
       "      <td>4.66</td>\n",
       "      <td>69.69</td>\n",
       "      <td>1.25</td>\n",
       "      <td>6.07</td>\n",
       "      <td>5.23</td>\n",
       "      <td>12674</td>\n",
       "    </tr>\n",
       "    <tr>\n",
       "      <th>3</th>\n",
       "      <td>3.38</td>\n",
       "      <td>28.61</td>\n",
       "      <td>40.39</td>\n",
       "      <td>27.62</td>\n",
       "      <td>4.30</td>\n",
       "      <td>55.02</td>\n",
       "      <td>1.15</td>\n",
       "      <td>6.78</td>\n",
       "      <td>5.13</td>\n",
       "      <td>10130</td>\n",
       "    </tr>\n",
       "    <tr>\n",
       "      <th>4</th>\n",
       "      <td>10.67</td>\n",
       "      <td>27.92</td>\n",
       "      <td>54.50</td>\n",
       "      <td>6.91</td>\n",
       "      <td>5.43</td>\n",
       "      <td>70.17</td>\n",
       "      <td>1.54</td>\n",
       "      <td>14.80</td>\n",
       "      <td>1.15</td>\n",
       "      <td>12559</td>\n",
       "    </tr>\n",
       "  </tbody>\n",
       "</table>\n",
       "</div>"
      ],
      "text/plain": [
       "   moistr  volmat  fixedc    ash  hydrgn  carbon  nitrgn  oxygen  sulfur  \\\n",
       "0    6.98   33.02   57.42   2.58    5.14   71.80    1.13   18.91    0.44   \n",
       "1   11.15   26.39   58.32   4.14    5.05   66.71    1.40   22.10    0.60   \n",
       "2    2.38   29.88   54.64  13.10    4.66   69.69    1.25    6.07    5.23   \n",
       "3    3.38   28.61   40.39  27.62    4.30   55.02    1.15    6.78    5.13   \n",
       "4   10.67   27.92   54.50   6.91    5.43   70.17    1.54   14.80    1.15   \n",
       "\n",
       "     gcv  \n",
       "0  12312  \n",
       "1  11290  \n",
       "2  12674  \n",
       "3  10130  \n",
       "4  12559  "
      ]
     },
     "execution_count": 3,
     "metadata": {},
     "output_type": "execute_result"
    }
   ],
   "source": [
    "df = pd.read_csv('coalv2.csv')\n",
    "df.head()"
   ]
  },
  {
   "cell_type": "code",
   "execution_count": 4,
   "metadata": {},
   "outputs": [
    {
     "name": "stdout",
     "output_type": "stream",
     "text": [
      "<class 'pandas.core.frame.DataFrame'>\n",
      "RangeIndex: 5000 entries, 0 to 4999\n",
      "Data columns (total 10 columns):\n",
      " #   Column  Non-Null Count  Dtype  \n",
      "---  ------  --------------  -----  \n",
      " 0   moistr  5000 non-null   float64\n",
      " 1   volmat  5000 non-null   float64\n",
      " 2   fixedc  5000 non-null   float64\n",
      " 3   ash     5000 non-null   float64\n",
      " 4   hydrgn  5000 non-null   float64\n",
      " 5   carbon  5000 non-null   float64\n",
      " 6   nitrgn  5000 non-null   float64\n",
      " 7   oxygen  5000 non-null   float64\n",
      " 8   sulfur  5000 non-null   float64\n",
      " 9   gcv     5000 non-null   int64  \n",
      "dtypes: float64(9), int64(1)\n",
      "memory usage: 390.8 KB\n"
     ]
    }
   ],
   "source": [
    "df = df.iloc[:5000, ]\n",
    "df.info()"
   ]
  },
  {
   "cell_type": "code",
   "execution_count": 5,
   "metadata": {},
   "outputs": [],
   "source": [
    "# selecting features and label\n",
    "X = df.iloc[:, :-1]  # features\n",
    "y = df.iloc[:,-1]  #label"
   ]
  },
  {
   "cell_type": "code",
   "execution_count": 6,
   "metadata": {},
   "outputs": [
    {
     "data": {
      "text/plain": [
       "[(5000, 9), (5000,)]"
      ]
     },
     "execution_count": 6,
     "metadata": {},
     "output_type": "execute_result"
    }
   ],
   "source": [
    "[X.shape, y.shape]"
   ]
  },
  {
   "cell_type": "markdown",
   "metadata": {},
   "source": [
    "###  Split into train and test set\n",
    "___\n",
    "###  Standardization:\n",
    "$$x^{'} = \\frac{x - \\bar{x}}{\\sigma}$$\n",
    "\n",
    "where, \n",
    "$\\bar{x}$ = mean of a certain feature\n",
    "$\\sigma$ = standard deviation of a certain feature\n",
    "___\n",
    "**For tree based algorithm standardization/normailazation is not required**\n"
   ]
  },
  {
   "cell_type": "code",
   "execution_count": 7,
   "metadata": {},
   "outputs": [],
   "source": [
    "# spliting into training and testing set for both X and y\n",
    "from sklearn.model_selection import train_test_split\n",
    "X_train, X_test, y_train, y_test = train_test_split(X,y, test_size=0.3, random_state=None )\n",
    "\n",
    "# Standardization\n",
    "# from sklearn.preprocessing import StandardScaler\n",
    "\n",
    "# transforming X_train value to feed to the model\n",
    "# scaler = StandardScaler()\n",
    "# X_train_scaled = scaler.fit_transform(X_train)\n",
    "\n",
    "# transforming X_test value for predicting for new cases\n",
    "# X_test_scaled = scaler.transform(X_test)"
   ]
  },
  {
   "cell_type": "code",
   "execution_count": 8,
   "metadata": {},
   "outputs": [],
   "source": [
    "\n",
    "# function to convert seconds to into hours, minutes and seconds\n",
    "# this function is used to measure the running time of any model\n",
    "def convert(seconds):\n",
    "    seconds = seconds % (24 * 3600)\n",
    "    hour = seconds // 3600\n",
    "    seconds %= 3600\n",
    "    minutes = seconds // 60\n",
    "    seconds %= 60\n",
    "      \n",
    "    return \"%d:%02d:%02d\" % (hour, minutes, seconds)"
   ]
  },
  {
   "cell_type": "markdown",
   "metadata": {},
   "source": [
    "### Loading the svr model from sklearn.svm\n",
    "### Fit the model, do the prediction"
   ]
  },
  {
   "cell_type": "code",
   "execution_count": 9,
   "metadata": {},
   "outputs": [
    {
     "name": "stdout",
     "output_type": "stream",
     "text": [
      "run_time: 0:00:00 h:m:s\n"
     ]
    }
   ],
   "source": [
    "import time\n",
    "from sklearn import tree\n",
    "regressor = tree.DecisionTreeRegressor(max_depth=12)\n",
    "\n",
    "\n",
    "start = time.time() # starting of the time\n",
    "# fit/train the model\n",
    "regressor.fit(X_train, y_train)\n",
    "\n",
    "end = time.time() # ending of the time\n",
    "print('run_time:', convert(end - start), 'h:m:s')\n",
    "\n",
    "#prediction using test cases or completely new cases\n",
    "pred = regressor.predict(X_test)"
   ]
  },
  {
   "cell_type": "markdown",
   "metadata": {},
   "source": [
    "### Saving trained model to a file and reading the same file using pickle module"
   ]
  },
  {
   "cell_type": "code",
   "execution_count": 7,
   "metadata": {},
   "outputs": [],
   "source": [
    "# import pickle\n",
    "\n",
    "# with open('trained_svm_model', 'wb') as f:\n",
    "#    pickle.dump(regressor, f)\n",
    "\n",
    "#with open('trained_svm_model', 'rb') as f:\n",
    "#    mp = pickle.load(f)\n",
    "#    mp.predict(X)"
   ]
  },
  {
   "cell_type": "markdown",
   "metadata": {},
   "source": [
    "### Another approach for saving and reading the trained model using joblib module\n",
    "- It is more efficient on objects that carry large numpy arrays internally as is often the case for fitted scikit-learn estimators"
   ]
  },
  {
   "cell_type": "markdown",
   "metadata": {},
   "source": [
    "### Model evaluation metrics for regression\n",
    "**R_squared_score**:\n",
    "$$R^2(y, \\hat{y}) = 1 - \\frac{\\sum_{i=1}^{n}(y_i - \\hat{y_i})^2}{\\sum_{i=1}^{n}(y_i - \\bar{y})^2}$$\n",
    "**Explained_variance**:\n",
    "$$(y, \\hat{y}) = 1 - \\frac{Var\\{y-\\hat{y}\\}}{Var\\{y\\}}$$\n",
    "\n",
    "**Max_error**:\n",
    "$$(y, \\hat{y}) = max(|y_i - \\hat{y_i}|)$$\n",
    "\n",
    "**Mean Absolute Error** (MAE) is the mean of the absolute value of the errors:\n",
    "$$\\frac 1n\\sum_{i=1}^n|y_i-\\hat{y}_i|$$\n",
    "\n",
    "**Mean Squared Error** (MSE) is the mean of the squared errors:\n",
    "$$\\frac 1n\\sum_{i=1}^n(y_i-\\hat{y}_i)^2$$\n",
    "\n",
    "**Root Mean Squared Error** (RMSE) is the square root of the mean of the squared errors:\n",
    "$$\\sqrt{\\frac 1n\\sum_{i=1}^n(y_i-\\hat{y}_i)^2}$$"
   ]
  },
  {
   "cell_type": "markdown",
   "metadata": {},
   "source": [
    "### Evaluation Metrics for testing set"
   ]
  },
  {
   "cell_type": "code",
   "execution_count": 15,
   "metadata": {},
   "outputs": [
    {
     "name": "stdout",
     "output_type": "stream",
     "text": [
      "                            0             1                   2          3  \\\n",
      "Performance_metrics        R2           MSE  Explained Variance  Max error   \n",
      "regression_tree      0.991525  44787.025662            0.991528     2260.0   \n",
      "\n",
      "                             4           5         6  \n",
      "Performance_metrics  Min error         MAE      MAPE  \n",
      "regression_tree            0.0  142.947631  0.013867  \n"
     ]
    }
   ],
   "source": [
    "\n",
    "# explained_variance\n",
    "from sklearn.metrics import explained_variance_score\n",
    "explained_variance = explained_variance_score(y_test, pred)\n",
    "\n",
    "# r2_score\n",
    "from sklearn.metrics import r2_score\n",
    "r2 = r2_score(y_test,pred)\n",
    "\n",
    "# max_error\n",
    "from sklearn.metrics import max_error\n",
    "max_error = max_error(y_test, pred)\n",
    "\n",
    "# min error\n",
    "min_error = min(abs(y_test - pred))\n",
    "\n",
    "# mean absolute error\n",
    "from sklearn.metrics import mean_absolute_error\n",
    "MAE = mean_absolute_error(y_test, pred)\n",
    "\n",
    "# mean squared error\n",
    "from sklearn.metrics import mean_squared_error\n",
    "MSE = mean_squared_error(y_test, pred)\n",
    "\n",
    "# mean_absolute_percentage_error\n",
    "from sklearn.metrics import mean_absolute_percentage_error\n",
    "MAPE = mean_absolute_percentage_error(y_test, pred)\n",
    "\n",
    "\n",
    "metrics = {\n",
    "\t\t'Performance_metrics': ['R2', 'MSE', 'Explained Variance',  'Max error', 'Min error', 'MAE',  'MAPE'],\n",
    "\t\t'regression_tree': [r2, MSE, explained_variance,  max_error, min_error, MAE, MAPE]\n",
    "\t}\n",
    "\n",
    "performance_metrics = pd.DataFrame(metrics)\n",
    "performance = performance_metrics.transpose()\n",
    "\n",
    "print(performance)\n"
   ]
  },
  {
   "cell_type": "code",
   "execution_count": 16,
   "metadata": {},
   "outputs": [],
   "source": [
    "performance.to_csv('performance_metrics_for_regression_tree.csv')"
   ]
  },
  {
   "cell_type": "code",
   "execution_count": 17,
   "metadata": {},
   "outputs": [
    {
     "data": {
      "text/plain": [
       "['trained_decision_tree_model.joblib']"
      ]
     },
     "execution_count": 17,
     "metadata": {},
     "output_type": "execute_result"
    }
   ],
   "source": [
    "from joblib import dump, load\n",
    "dump(regressor, 'trained_decision_tree_model.joblib') \n",
    "\n",
    "#clf = load('trained_linear_regression_model.joblib')"
   ]
  },
  {
   "cell_type": "markdown",
   "metadata": {},
   "source": [
    "### Regression plot for testing set"
   ]
  },
  {
   "cell_type": "code",
   "execution_count": 11,
   "metadata": {},
   "outputs": [],
   "source": [
    "#sns.set_theme(color_codes=True)\n",
    "#plt.style.use('ggplot')\n",
    "#plt.figure(figsize=(12, 8))\n",
    "#ax = sns.regplot(x=y_test, y=pred)\n",
    "#plt.xlabel(\"original test value\")\n",
    "#plt.ylabel(\"prediction\")\n",
    "#plt.title(\"Regression Plot\")"
   ]
  },
  {
   "cell_type": "code",
   "execution_count": 12,
   "metadata": {},
   "outputs": [
    {
     "data": {
      "text/plain": [
       "Text(0.5, 1.0, 'Regression Plot')"
      ]
     },
     "execution_count": 12,
     "metadata": {},
     "output_type": "execute_result"
    },
    {
     "data": {
      "image/png": "[encoded data removed]",
      "text/plain": [
       "<Figure size 864x576 with 1 Axes>"
      ]
     },
     "metadata": {},
     "output_type": "display_data"
    }
   ],
   "source": [
    "plt.style.use('ggplot')\n",
    "plt.figure(figsize=(12, 8))\n",
    "x, y = y_test, pred\n",
    "plt.scatter(x, y, color='blue', marker=(5,2))\n",
    "m, b = np.polyfit(x, y, 1)\n",
    "plt.plot(x, m*x + b, color='r')\n",
    "plt.xlabel(\"original test value\")\n",
    "plt.ylabel(\"prediction\")\n",
    "plt.title(\"Regression Plot\")"
   ]
  }
 ],
 "metadata": {
  "kernelspec": {
   "display_name": "Python 3.9.12 ('base')",
   "language": "python",
   "name": "python3"
  },
  "language_info": {
   "codemirror_mode": {
    "name": "ipython",
    "version": 3
   },
   "file_extension": ".py",
   "mimetype": "text/x-python",
   "name": "python",
   "nbconvert_exporter": "python",
   "pygments_lexer": "ipython3",
   "version": "3.9.12"
  },
  "vscode": {
   "interpreter": {
    "hash": "dc07d24e2f18896857f0b2a651fe84ba40ce7b297e58d8804a308c8039f752a6"
   }
  }
 },
 "nbformat": 4,
 "nbformat_minor": 4
}
